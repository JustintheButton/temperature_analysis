{
 "cells": [
  {
   "cell_type": "code",
   "execution_count": 2,
   "id": "c9c7978d-7ad2-4cb2-b6ea-164367882657",
   "metadata": {},
   "outputs": [],
   "source": [
    "import pandas as pd\n",
    "from os import listdir\n",
    "from os.path import isfile, join"
   ]
  },
  {
   "cell_type": "code",
   "execution_count": 3,
   "id": "a7164ef3-08df-46f0-882c-b0959eb70276",
   "metadata": {},
   "outputs": [],
   "source": [
    "#onlyfiles = [f for f in listdir(mypath) if isfile(join(mypath, f))]\n",
    "df_master = {}\n",
    "path = 'data/'\n",
    "for f in listdir(path):\n",
    "    if 'csv' in f:\n",
    "        station_id = f[0:6]\n",
    "        year = f[7:11]\n",
    "        if station_id in df_master:\n",
    "            df_master[station_id] = df_master[station_id].append(pd.read_csv(join(path, f)))\n",
    "        else:\n",
    "            df_master[station_id]=pd.read_csv(join(path, f))\n",
    "                                           \n",
    "for key in df_master:\n",
    "    df_master[key].drop(df_master[key].columns[0], axis=1).to_csv(join('data_wholeyear/', key+'.csv'))"
   ]
  },
  {
   "cell_type": "code",
   "execution_count": null,
   "id": "29b7270b-ac57-4a24-9703-3c753ab313d3",
   "metadata": {},
   "outputs": [],
   "source": []
  }
 ],
 "metadata": {
  "kernelspec": {
   "display_name": "Python 3 (ipykernel)",
   "language": "python",
   "name": "python3"
  },
  "language_info": {
   "codemirror_mode": {
    "name": "ipython",
    "version": 3
   },
   "file_extension": ".py",
   "mimetype": "text/x-python",
   "name": "python",
   "nbconvert_exporter": "python",
   "pygments_lexer": "ipython3",
   "version": "3.10.1"
  }
 },
 "nbformat": 4,
 "nbformat_minor": 5
}
